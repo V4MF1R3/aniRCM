{
 "cells": [
  {
   "cell_type": "code",
   "execution_count": 1,
   "metadata": {},
   "outputs": [],
   "source": [
    "import pandas as pd\n",
    "import numpy as np"
   ]
  },
  {
   "cell_type": "code",
   "execution_count": 2,
   "metadata": {},
   "outputs": [],
   "source": [
    "# Load the dataset and initialize necessary libraries\n",
    "df1 = pd.read_json(\"data/data.json\")\n",
    "df2 = pd.read_csv('data/user_recommendation.csv')"
   ]
  },
  {
   "cell_type": "code",
   "execution_count": 3,
   "metadata": {},
   "outputs": [],
   "source": [
    "# Filling empty synopsis\n",
    "df1['synopsis'] = df1['synopsis'].fillna('')"
   ]
  },
  {
   "cell_type": "code",
   "execution_count": 4,
   "metadata": {},
   "outputs": [],
   "source": [
    "# Remove duplicate rows based on mal_id\n",
    "df1 = df1.drop_duplicates('mal_id', keep='first')"
   ]
  },
  {
   "cell_type": "code",
   "execution_count": 5,
   "metadata": {},
   "outputs": [],
   "source": [
    "# Define a function to merge arrays\n",
    "def merge_arrays(row):\n",
    "    return row['genres'] + row['themes']\n",
    "\n",
    "df1['merged_genres_themes'] = df1.apply(merge_arrays, axis=1)"
   ]
  },
  {
   "cell_type": "code",
   "execution_count": 6,
   "metadata": {},
   "outputs": [],
   "source": [
    "# Text preprocessing and feature extraction for synopsis\n",
    "from sklearn.feature_extraction.text import TfidfVectorizer\n",
    "tfidf = TfidfVectorizer(stop_words='english')\n",
    "synopsis_vectors = tfidf.fit_transform(df1['synopsis'])"
   ]
  },
  {
   "cell_type": "code",
   "execution_count": 7,
   "metadata": {},
   "outputs": [],
   "source": [
    "from sklearn.preprocessing import MultiLabelBinarizer\n",
    "mlb = MultiLabelBinarizer()"
   ]
  },
  {
   "cell_type": "code",
   "execution_count": 8,
   "metadata": {},
   "outputs": [],
   "source": [
    "# Fit and transform the genres data\n",
    "mgt_encoded = mlb.fit_transform(df1['merged_genres_themes'])\n",
    "\n",
    "# Convert the encoded genres into a DataFrame (optional)\n",
    "encoded_mgt_df = pd.DataFrame(mgt_encoded, columns=mlb.classes_)"
   ]
  },
  {
   "cell_type": "code",
   "execution_count": 9,
   "metadata": {},
   "outputs": [],
   "source": [
    "# Combine TF-IDF vectors of synopses and binary encoded genres and themes\n",
    "combined_features = np.hstack((synopsis_vectors.toarray(), mgt_encoded))"
   ]
  },
  {
   "cell_type": "code",
   "execution_count": 10,
   "metadata": {},
   "outputs": [],
   "source": [
    "from sklearn.metrics.pairwise import linear_kernel\n",
    "cosine_sim = linear_kernel(combined_features, combined_features)"
   ]
  },
  {
   "cell_type": "code",
   "execution_count": 11,
   "metadata": {},
   "outputs": [],
   "source": [
    "#Construct a reverse map of indices and movie titles\n",
    "indices = pd.Series(df1.index, index=df1['mal_id']).drop_duplicates()"
   ]
  },
  {
   "cell_type": "code",
   "execution_count": 12,
   "metadata": {},
   "outputs": [],
   "source": [
    "def adjust_similarity_with_votes(sim_scores, mal_id, df2):\n",
    "    # Create a dictionary to store initial similarity scores\n",
    "    sim_scores_with_votes = {mal_id: score for mal_id, score in sim_scores}\n",
    "    \n",
    "    # Filter df2 to get all recommendations for the given mal_id\n",
    "    recommendations = df2[df2['mal_id'] == mal_id]\n",
    "    \n",
    "    # Adjust similarity scores with votes from recommendations\n",
    "    for _, row in recommendations.iterrows():\n",
    "        rec_id = row['mal_id_recomm']\n",
    "        vote = row['votes']\n",
    "        if rec_id in sim_scores_with_votes:\n",
    "            sim_scores_with_votes[rec_id] += vote\n",
    "        # else:\n",
    "        #     sim_scores_with_votes[rec_id] = 0.1 * vote\n",
    "    \n",
    "    # Sort the movies based on the adjusted similarity scores\n",
    "    sim_scores_sorted = sorted(sim_scores_with_votes.items(), key=lambda x: x[1], reverse=True)\n",
    "    \n",
    "    return sim_scores_sorted"
   ]
  },
  {
   "cell_type": "code",
   "execution_count": 13,
   "metadata": {},
   "outputs": [],
   "source": [
    "def get_similarity(mal_id, cosine_sim=cosine_sim):\n",
    "    if mal_id not in indices:\n",
    "        return f\"mal_id {mal_id} not found in the dataset\"\n",
    "    \n",
    "    idx = indices[mal_id]\n",
    "\n",
    "    # Get the pairwise similarity scores of all movies with that movie\n",
    "    sim_scores = cosine_sim[idx]\n",
    "    \n",
    "    # Ensure sim_scores is a 1D array\n",
    "    sim_scores = sim_scores.flatten()\n",
    "    \n",
    "    # Create a list of tuples (mal_id, similarity score)\n",
    "    sim_scores = [(df1['mal_id'].iloc[i], score) for i, score in enumerate(sim_scores)]\n",
    "    \n",
    "    # Adjust similarity scores with votes from recommendations\n",
    "    sim_scores_sorted = adjust_similarity_with_votes(sim_scores, mal_id, df2)\n",
    "    \n",
    "    # Get the scores of the 10 most similar movies (excluding itself)\n",
    "    sim_scores_top10 = [item for item in sim_scores_sorted if item[0] != mal_id][:10]\n",
    "    \n",
    "    # Create a dictionary of mal_id and adjusted similarity scores\n",
    "    similar_movies = {mal_id: score for mal_id, score in sim_scores_top10}\n",
    "    \n",
    "    return similar_movies"
   ]
  },
  {
   "cell_type": "code",
   "execution_count": 14,
   "metadata": {},
   "outputs": [
    {
     "name": "stdout",
     "output_type": "stream",
     "text": [
      "{6702: 8586.044254895529, 11061: 5960.013349429273, 20: 4647.0070727804, 918: 2424.0089472478685, 223: 2021.0333374906827, 813: 1617.0142036656073, 34572: 1617.0068360302373, 1735: 1516.0098524178134, 269: 1213.0230207927223, 136: 1213.0026008878885}\n"
     ]
    }
   ],
   "source": [
    "result = get_similarity(21)\n",
    "print(result)"
   ]
  },
  {
   "cell_type": "code",
   "execution_count": 17,
   "metadata": {},
   "outputs": [],
   "source": [
    "import pickle\n",
    "with open('data/tfidf_vectorizer.pkl', 'wb') as f:\n",
    "    pickle.dump(tfidf, f)\n",
    "with open('data/synopsis_vectors.pkl', 'wb') as f:\n",
    "    pickle.dump(synopsis_vectors, f)\n",
    "with open('data/mlb.pkl', 'wb') as f:\n",
    "    pickle.dump(mlb, f)\n",
    "with open('data/mgt_encoded.pkl', 'wb') as f:\n",
    "    pickle.dump(mgt_encoded, f)\n",
    "with open('data/combined_features.pkl', 'wb') as f:\n",
    "    pickle.dump(combined_features, f)\n",
    "with open('data/cosine_sim.pkl', 'wb') as f:\n",
    "    pickle.dump(cosine_sim, f)\n",
    "with open('data/indices.pkl', 'wb') as f:\n",
    "    pickle.dump(indices, f)\n",
    "\n",
    "# Save the dataframes as well\n",
    "df1.to_pickle('data/df1.pkl')\n",
    "df2.to_pickle('data/df2.pkl')"
   ]
  }
 ],
 "metadata": {
  "kernelspec": {
   "display_name": ".venv",
   "language": "python",
   "name": "python3"
  },
  "language_info": {
   "codemirror_mode": {
    "name": "ipython",
    "version": 3
   },
   "file_extension": ".py",
   "mimetype": "text/x-python",
   "name": "python",
   "nbconvert_exporter": "python",
   "pygments_lexer": "ipython3",
   "version": "3.12.3"
  }
 },
 "nbformat": 4,
 "nbformat_minor": 2
}
